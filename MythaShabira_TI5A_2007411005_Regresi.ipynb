{
 "cells": [
  {
   "cell_type": "code",
   "execution_count": null,
   "id": "725249c5",
   "metadata": {},
   "outputs": [],
   "source": [
    "#Import Library\n",
    "import numpy as np \n",
    "import pandas as pd \n",
    "import seaborn as sns \n",
    "import matplotlib.pyplot as plt \n",
    "\n",
    "import warnings\n",
    "warnings.filterwarnings('ignore')\n",
    "\n",
    "from sklearn.model_selection import train_test_split\n",
    "from sklearn.linear_model import LogisticRegression\n",
    "from sklearn.metrics import accuracy_score"
   ]
  },
  {
   "cell_type": "code",
   "execution_count": null,
   "id": "dc1c0026",
   "metadata": {},
   "outputs": [],
   "source": [
    "#load Data\n",
    "dfh=pd.read_csv('Breast_cancer_data.csv')\n",
    "dfh.head()"
   ]
  },
  {
   "cell_type": "code",
   "execution_count": null,
   "id": "b66c671d",
   "metadata": {},
   "outputs": [],
   "source": [
    "dfh.info()"
   ]
  },
  {
   "cell_type": "code",
   "execution_count": null,
   "id": "f6c4ec27",
   "metadata": {},
   "outputs": [],
   "source": [
    "dfh.describe()"
   ]
  },
  {
   "cell_type": "code",
   "execution_count": null,
   "id": "e82554e0",
   "metadata": {},
   "outputs": [],
   "source": [
    "#counting each of diagnosis\n",
    "dfh['diagnosis'].value_counts()"
   ]
  },
  {
   "cell_type": "code",
   "execution_count": null,
   "id": "dca3f490",
   "metadata": {},
   "outputs": [],
   "source": [
    "dfh.groupby('diagnosis').mean()"
   ]
  },
  {
   "cell_type": "code",
   "execution_count": null,
   "id": "b0db841f",
   "metadata": {},
   "outputs": [],
   "source": [
    "X = dfh.drop(columns='diagnosis', axis=1)\n",
    "Y = dfh['diagnosis']\n",
    "print(X)\n",
    "print(Y)"
   ]
  },
  {
   "cell_type": "code",
   "execution_count": null,
   "id": "e3e6592f",
   "metadata": {},
   "outputs": [],
   "source": [
    "#Split data\n",
    "X_train, X_test, Y_train, Y_test = train_test_split(X, Y, test_size=0.2, random_state=2)\n",
    "print(X.shape, X_train.shape, X_test.shape)"
   ]
  },
  {
   "cell_type": "code",
   "execution_count": null,
   "id": "4a2a8d31",
   "metadata": {},
   "outputs": [],
   "source": [
    "model = LogisticRegression()\n",
    "model.fit(X_train, Y_train)"
   ]
  },
  {
   "cell_type": "code",
   "execution_count": null,
   "id": "1937ad2e",
   "metadata": {},
   "outputs": [],
   "source": [
    "X_train_predict = model.predict(X_train)\n",
    "training_data_accuracy = accuracy_score(Y_train, X_train_predict)\n",
    "print('Accuracy on training datas = ', round(training_data_accuracy, 3))"
   ]
  },
  {
   "cell_type": "code",
   "execution_count": null,
   "id": "3d607659",
   "metadata": {},
   "outputs": [],
   "source": [
    "X_test_predict = model.predict(X_test)\n",
    "test_data_accuracy = accuracy_score(Y_test, X_test_predict)\n",
    "print('Accuracy on test datas = ', round(test_data_accuracy, 3))"
   ]
  },
  {
   "cell_type": "code",
   "execution_count": null,
   "id": "d0a559e2",
   "metadata": {},
   "outputs": [],
   "source": [
    "#Predict system\n",
    "input_data = (13.54,14.36,87.46,566.3,0.09779)\n",
    "data_array = np.asarray(input_data)\n",
    "data_reshape = data_array.reshape(1,-1)\n",
    "prediction = model.predict(data_reshape)\n",
    "\n",
    "print(prediction)\n",
    "\n",
    "if(prediction[0] == 0):\n",
    "    print('Not getting breast cancer')\n",
    "else:\n",
    "    print('Getting breast cancer')"
   ]
  },
  {
   "cell_type": "code",
   "execution_count": null,
   "id": "be049b1c",
   "metadata": {},
   "outputs": [],
   "source": [
    "#R2 Value\n",
    "from sklearn.linear_model import LinearRegression\n",
    "from sklearn.model_selection import cross_val_score\n",
    "\n",
    "linear_regression = LinearRegression()\n",
    "linear_regression.fit(X_train, Y_train)\n",
    "r2_predict = linear_regression.predict(X_test)\n",
    "print('Value R2 =', cross_val_score(linear_regression, X, Y, cv=10, scoring=\"r2\").mean())"
   ]
  },
  {
   "cell_type": "code",
   "execution_count": null,
   "id": "f59c558d",
   "metadata": {},
   "outputs": [],
   "source": []
  }
 ],
 "metadata": {
  "kernelspec": {
   "display_name": "Python 3.10.7 64-bit",
   "language": "python",
   "name": "python3"
  },
  "language_info": {
   "codemirror_mode": {
    "name": "ipython",
    "version": 3
   },
   "file_extension": ".py",
   "mimetype": "text/x-python",
   "name": "python",
   "nbconvert_exporter": "python",
   "pygments_lexer": "ipython3",
   "version": "3.10.7"
  },
  "vscode": {
   "interpreter": {
    "hash": "229cdfb8eedfa4964725b7eb0da8d7a63b25d97a6ab808f09bd6b506844c0629"
   }
  }
 },
 "nbformat": 4,
 "nbformat_minor": 5
}
